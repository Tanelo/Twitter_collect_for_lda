{
 "metadata": {
  "language_info": {
   "codemirror_mode": {
    "name": "ipython",
    "version": 3
   },
   "file_extension": ".py",
   "mimetype": "text/x-python",
   "name": "python",
   "nbconvert_exporter": "python",
   "pygments_lexer": "ipython3",
   "version": "3.9.2"
  },
  "orig_nbformat": 4,
  "kernelspec": {
   "name": "python3",
   "display_name": "Python 3.9.2 64-bit"
  },
  "interpreter": {
   "hash": "aee8b7b246df8f9039afb4144a1f6fd8d2ca17a180786b69acc140d282b71a49"
  }
 },
 "nbformat": 4,
 "nbformat_minor": 2,
 "cells": [
  {
   "cell_type": "code",
   "execution_count": 2,
   "metadata": {},
   "outputs": [],
   "source": [
    "import pandas as pd"
   ]
  },
  {
   "cell_type": "code",
   "execution_count": 31,
   "metadata": {},
   "outputs": [],
   "source": [
    "df_tweets = pd.read_csv('full_df_influenceurs.csv', encoding='utf-8')"
   ]
  },
  {
   "cell_type": "code",
   "execution_count": 32,
   "metadata": {},
   "outputs": [
    {
     "output_type": "execute_result",
     "data": {
      "text/plain": [
       "                   id                 date  \\\n",
       "0      Steven Johnson  2021-06-25 16:15:20   \n",
       "1      Steven Johnson  2021-06-23 05:12:55   \n",
       "2     Patrick LaForge  2021-06-27 00:53:13   \n",
       "3     Patrick LaForge  2021-06-27 00:52:24   \n",
       "4  The New York Times  2021-06-27 13:47:24   \n",
       "5  The New York Times  2021-06-27 13:45:05   \n",
       "\n",
       "                                                text  \n",
       "0  RT @TimHarford: Why do we choose treatments th...  \n",
       "1  RT @cdespinosa: Thirty years ago today. I thin...  \n",
       "2  Fight and Flight: T.S.A. to Resume Self-Defens...  \n",
       "3  5 Dead in Hot-Air Balloon Crash in New Mexico,...  \n",
       "4  RT @christophclarey: Serena Williams, four-tim...  \n",
       "5  Saturday evening, search and rescue workers at...  "
      ],
      "text/html": "<div>\n<style scoped>\n    .dataframe tbody tr th:only-of-type {\n        vertical-align: middle;\n    }\n\n    .dataframe tbody tr th {\n        vertical-align: top;\n    }\n\n    .dataframe thead th {\n        text-align: right;\n    }\n</style>\n<table border=\"1\" class=\"dataframe\">\n  <thead>\n    <tr style=\"text-align: right;\">\n      <th></th>\n      <th>id</th>\n      <th>date</th>\n      <th>text</th>\n    </tr>\n  </thead>\n  <tbody>\n    <tr>\n      <th>0</th>\n      <td>Steven Johnson</td>\n      <td>2021-06-25 16:15:20</td>\n      <td>RT @TimHarford: Why do we choose treatments th...</td>\n    </tr>\n    <tr>\n      <th>1</th>\n      <td>Steven Johnson</td>\n      <td>2021-06-23 05:12:55</td>\n      <td>RT @cdespinosa: Thirty years ago today. I thin...</td>\n    </tr>\n    <tr>\n      <th>2</th>\n      <td>Patrick LaForge</td>\n      <td>2021-06-27 00:53:13</td>\n      <td>Fight and Flight: T.S.A. to Resume Self-Defens...</td>\n    </tr>\n    <tr>\n      <th>3</th>\n      <td>Patrick LaForge</td>\n      <td>2021-06-27 00:52:24</td>\n      <td>5 Dead in Hot-Air Balloon Crash in New Mexico,...</td>\n    </tr>\n    <tr>\n      <th>4</th>\n      <td>The New York Times</td>\n      <td>2021-06-27 13:47:24</td>\n      <td>RT @christophclarey: Serena Williams, four-tim...</td>\n    </tr>\n    <tr>\n      <th>5</th>\n      <td>The New York Times</td>\n      <td>2021-06-27 13:45:05</td>\n      <td>Saturday evening, search and rescue workers at...</td>\n    </tr>\n  </tbody>\n</table>\n</div>"
     },
     "metadata": {},
     "execution_count": 32
    }
   ],
   "source": [
    "df_tweets"
   ]
  },
  {
   "cell_type": "code",
   "execution_count": null,
   "metadata": {},
   "outputs": [],
   "source": []
  }
 ]
}