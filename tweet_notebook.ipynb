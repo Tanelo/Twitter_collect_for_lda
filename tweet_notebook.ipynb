{
 "metadata": {
  "language_info": {
   "codemirror_mode": {
    "name": "ipython",
    "version": 3
   },
   "file_extension": ".py",
   "mimetype": "text/x-python",
   "name": "python",
   "nbconvert_exporter": "python",
   "pygments_lexer": "ipython3",
   "version": "3.9.2"
  },
  "orig_nbformat": 4,
  "kernelspec": {
   "name": "python3",
   "display_name": "Python 3.9.2 64-bit"
  },
  "interpreter": {
   "hash": "aee8b7b246df8f9039afb4144a1f6fd8d2ca17a180786b69acc140d282b71a49"
  }
 },
 "nbformat": 4,
 "nbformat_minor": 2,
 "cells": [
  {
   "cell_type": "code",
   "execution_count": 2,
   "metadata": {},
   "outputs": [],
   "source": [
    "import pandas as pd"
   ]
  },
  {
   "cell_type": "code",
   "execution_count": 29,
   "metadata": {},
   "outputs": [],
   "source": [
    "df_tweets = pd.read_csv('full_df.csv', encoding='utf-8')"
   ]
  },
  {
   "cell_type": "code",
   "execution_count": 30,
   "metadata": {},
   "outputs": [
    {
     "output_type": "execute_result",
     "data": {
      "text/plain": [
       "                    id                 date  \\\n",
       "0  1409107351387480076  2021-06-27 11:12:27   \n",
       "1  1409107140854288387  2021-06-27 11:11:36   \n",
       "2  1409107449018085379  2021-06-27 11:12:50   \n",
       "3  1409107444135989257  2021-06-27 11:12:49   \n",
       "4  1409107434015268872  2021-06-27 11:12:46   \n",
       "5  1409107430680662019  2021-06-27 11:12:46   \n",
       "\n",
       "                                                text  \n",
       "0  https://t.co/WDtUrqz9eX $199\\n\\nThe domain nam...  \n",
       "1  RT @BRIAN_COHEN0: To kickstart an investment p...  \n",
       "2  RT @mnl48official: Collect and grab this exclu...  \n",
       "3  RT @mnl48wrldupdate: MNL48 \"AKB48 Group Asia F...  \n",
       "4  Yes it will because ppl want holidays - So the...  \n",
       "5  @Fauntleroy1934 @2much2todo I don’t sense any ...  "
      ],
      "text/html": "<div>\n<style scoped>\n    .dataframe tbody tr th:only-of-type {\n        vertical-align: middle;\n    }\n\n    .dataframe tbody tr th {\n        vertical-align: top;\n    }\n\n    .dataframe thead th {\n        text-align: right;\n    }\n</style>\n<table border=\"1\" class=\"dataframe\">\n  <thead>\n    <tr style=\"text-align: right;\">\n      <th></th>\n      <th>id</th>\n      <th>date</th>\n      <th>text</th>\n    </tr>\n  </thead>\n  <tbody>\n    <tr>\n      <th>0</th>\n      <td>1409107351387480076</td>\n      <td>2021-06-27 11:12:27</td>\n      <td>https://t.co/WDtUrqz9eX $199\\n\\nThe domain nam...</td>\n    </tr>\n    <tr>\n      <th>1</th>\n      <td>1409107140854288387</td>\n      <td>2021-06-27 11:11:36</td>\n      <td>RT @BRIAN_COHEN0: To kickstart an investment p...</td>\n    </tr>\n    <tr>\n      <th>2</th>\n      <td>1409107449018085379</td>\n      <td>2021-06-27 11:12:50</td>\n      <td>RT @mnl48official: Collect and grab this exclu...</td>\n    </tr>\n    <tr>\n      <th>3</th>\n      <td>1409107444135989257</td>\n      <td>2021-06-27 11:12:49</td>\n      <td>RT @mnl48wrldupdate: MNL48 \"AKB48 Group Asia F...</td>\n    </tr>\n    <tr>\n      <th>4</th>\n      <td>1409107434015268872</td>\n      <td>2021-06-27 11:12:46</td>\n      <td>Yes it will because ppl want holidays - So the...</td>\n    </tr>\n    <tr>\n      <th>5</th>\n      <td>1409107430680662019</td>\n      <td>2021-06-27 11:12:46</td>\n      <td>@Fauntleroy1934 @2much2todo I don’t sense any ...</td>\n    </tr>\n  </tbody>\n</table>\n</div>"
     },
     "metadata": {},
     "execution_count": 30
    }
   ],
   "source": [
    "df_tweets"
   ]
  },
  {
   "cell_type": "code",
   "execution_count": null,
   "metadata": {},
   "outputs": [],
   "source": []
  }
 ]
}